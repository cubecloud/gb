{
 "cells": [
  {
   "cell_type": "code",
   "execution_count": 1,
   "id": "2f962d8f-40c6-435c-a356-220fa5aea111",
   "metadata": {},
   "outputs": [
    {
     "name": "stdout",
     "output_type": "stream",
     "text": [
      "Running on Jupyter Notebook\n"
     ]
    }
   ],
   "source": [
    "import os\n",
    "import sys\n",
    "\n",
    "def prepare_dev_stationary():\n",
    "\n",
    "    global DEV\n",
    "    global DEV_DATA\n",
    "    try:\n",
    "        test_ipython = str(get_ipython())\n",
    "    except NameError:\n",
    "        print('Running on local environment')\n",
    "        DEV = os.getcwd()\n",
    "    else:\n",
    "        if 'google.colab' in test_ipython:\n",
    "            print('Running on CoLab')\n",
    "            from google.colab import drive\n",
    "            drive.mount('/content/drive')\n",
    "            cmd = \"pip install -U keras-tuner\"\n",
    "            os.system(cmd)\n",
    "            DEV = '/content/drive/MyDrive/Python/gb'\n",
    "        elif 'ipykernel' in test_ipython:\n",
    "            print('Running on Jupyter Notebook')\n",
    "            DEV = os.getcwd()\n",
    "    sys.path.append(DEV)\n",
    "    path_head = os.path.split(DEV)[0]\n",
    "    DEV_DATA = os.path.join(path_head, 'gb_data/')\n",
    "    pass\n",
    "\n",
    "prepare_dev_stationary()"
   ]
  },
  {
   "cell_type": "markdown",
   "id": "twelve-perfume",
   "metadata": {},
   "source": [
    "# Import"
   ]
  },
  {
   "cell_type": "code",
   "execution_count": 3,
   "id": "banner-tattoo",
   "metadata": {},
   "outputs": [],
   "source": [
    "import gb\n",
    "import pytz\n",
    "timezone = pytz.timezone(\"Europe/Moscow\")"
   ]
  },
  {
   "cell_type": "markdown",
   "id": "sacred-development",
   "metadata": {},
   "source": [
    "# Demo of containers filing classes with Genetic Bags"
   ]
  },
  {
   "cell_type": "code",
   "execution_count": 7,
   "id": "south-validity",
   "metadata": {},
   "outputs": [
    {
     "name": "stdout",
     "output_type": "stream",
     "text": [
      "Starting GA for searching of the best fill of capacity:\n",
      "Capacity: [1, 12, 72, 4, 55, 1, 11, 15, 30, 40]\n",
      "Items weight: [1, 1, 1, 1, 4, 3, 3, 3, 1, 27, 31, 7, 7, 11, 22, 7, 7, 8, 4, 7, 5, 5, 5, 10, 10, 10, 8, 8, 8, 8, 8]\n",
      "Total possible iterations: 10,000,000,000,000,000,000,000,000,000,000\n",
      "Total genes qty: 31\n",
      ">>> Training starts at  2021-11-16 13:25:13.656699\n",
      "id: 000 Epoch: 000000,  -1634 -1646 -1672 -2238 -2346\n",
      "id: 001 Epoch: 000000,  -1656 -1964 -2156 -2246 -2266\n",
      "id: 002 Epoch: 000000,  -1818 -2134 -2208 -2302 -2660\n",
      "id: 003 Epoch: 000000,  -1456 -2178 -2244 -2388 -2528\n",
      "id: 004 Epoch: 000000,  -1706 -1792 -2210 -2330 -2500\n",
      "id: 005 Epoch: 000000,  -640 -730 -1990 -2092 -2158\n",
      "id: 006 Epoch: 000000,  -1536 -2126 -2368 -2738 -3026\n",
      "id: 007 Epoch: 000000,  -1730 -1936 -1984 -2084 -2280\n",
      "id: 008 Epoch: 000000,  -2382 -2438 -2450 -2700 -2816\n",
      "id: 009 Epoch: 000000,  -1638 -2170 -2184 -2192 -2338\n",
      "Removed population 3 with lowscore = -300. Best bot score -38\n",
      "Reset lowscore\n",
      "id: 000 Epoch: 000100,  -42 -44 -44 -52 -54\n",
      "id: 001 Epoch: 000100,  -26 -42 -48 -50 -54\n",
      "id: 002 Epoch: 000100,  -18 -40 -40 -42 -46\n",
      "id: 004 Epoch: 000100,  -34 -38 -42 -44 -52\n",
      "id: 005 Epoch: 000100,  -36 -44 -52 -52 -52\n",
      "id: 006 Epoch: 000100,  -42 -46 -46 -48 -56\n",
      "id: 007 Epoch: 000100,  -38 -44 -44 -54 -56\n",
      "id: 008 Epoch: 000100,  -38 -42 -44 -46 -46\n",
      "id: 009 Epoch: 000100,  -38 -44 -44 -54 -56\n",
      "Removed population 0 with lowscore = -290. Best bot score -42\n",
      "Reset lowscore\n",
      "id: 001 Epoch: 000200,  -26 -30 -36 -36 -38\n",
      "id: 002 Epoch: 000200,  -18 -18 -22 -32 -32\n",
      "id: 004 Epoch: 000200,  -28 -32 -32 -34 -34\n",
      "id: 005 Epoch: 000200,  -36 -44 -44 -50 -52\n",
      "id: 006 Epoch: 000200,  -26 -36 -38 -40 -42\n",
      "id: 007 Epoch: 000200,  -22 -30 -38 -42 -44\n",
      "id: 008 Epoch: 000200,  -30 -38 -40 -42 -42\n",
      "id: 009 Epoch: 000200,  -26 -38 -38 -40 -42\n",
      "Removed population 7 with lowscore = -194. Best bot score -22\n",
      "Reset lowscore\n",
      "id: 001 Epoch: 000300,  -18 -26 -28 -30 -30\n",
      "id: 002 Epoch: 000300,  -18 -18 -22 -30 -30\n",
      "id: 004 Epoch: 000300,  -28 -28 -32 -32 -32\n",
      "id: 005 Epoch: 000300,  -12 -26 -32 -34 -36\n",
      "id: 006 Epoch: 000300,  -26 -30 -32 -34 -34\n",
      "id: 008 Epoch: 000300,  -20 -20 -30 -36 -38\n",
      "id: 009 Epoch: 000300,  -12 -26 -26 -36 -38\n",
      "Removed population 8 with lowscore = -172. Best bot score -20\n",
      "Reset lowscore\n",
      "id: 001 Epoch: 000400,  -10 -14 -14 -16 -18\n",
      "id: 002 Epoch: 000400,  -12 -18 -18 -20 -22\n",
      "id: 004 Epoch: 000400,  -10 -22 -28 -28 -28\n",
      "id: 005 Epoch: 000400,  -6 -6 -10 -12 -12\n",
      "id: 006 Epoch: 000400,  -20 -22 -26 -30 -32\n",
      "id: 009 Epoch: 000400,  -12 -26 -26 -30 -30\n",
      "Removed population 6 with lowscore = -150. Best bot score -20\n",
      "Reset lowscore\n",
      "id: 001 Epoch: 000500,  -4 -6 -8 -10 -10\n",
      "id: 002 Epoch: 000500,  -12 -12 -14 -18 -18\n",
      "id: 004 Epoch: 000500,  -10 -22 -24 -28 -28\n",
      "id: 005 Epoch: 000500,  -2 -2 -2 -2 -4\n",
      "id: 009 Epoch: 000500,  -12 -16 -22 -26 -26\n",
      "Removed population 4 with lowscore = -128. Best bot score -10\n",
      "Reset lowscore\n",
      "id: 001 Epoch: 000600,  -4 -4 -4 -4 -4\n",
      "id: 002 Epoch: 000600,  -12 -12 -14 -18 -18\n",
      "id: 005 Epoch: 000600,  -2 -2 -2 -2 -2\n",
      "id: 009 Epoch: 000600,  -12 -16 -20 -22 -24\n",
      "Removed population 9 with lowscore = -116. Best bot score -12\n",
      "Reset lowscore\n",
      "id: 001 Epoch: 000700,  -4 -4 -4 -4 -4\n",
      "id: 002 Epoch: 000700,  -12 -12 -12 -14 -18\n",
      "id: 005 Epoch: 000700,  -2 -2 -2 -2 -2\n",
      "Removed population 2 with lowscore = -42. Best bot score -4\n",
      "Reset lowscore\n",
      "id: 001 Epoch: 000800,  -4 -4 -4 -4 -4\n",
      "id: 005 Epoch: 000800,  -2 -2 -2 -2 -2\n",
      "Removed population 1 with lowscore = -24. Best bot score -4\n",
      "Reset lowscore\n",
      "id: 005 Epoch: 000900,  -2 -2 -2 -2 -2\n",
      "id: 005 Epoch: 001000,  -2 -2 -2 -2 -2\n",
      "id: 005 Epoch: 001100,  -2 -2 -2 -2 -2\n",
      "id: 005 Epoch: 001200,  -2 -2 -2 -2 -2\n",
      "id: 005 Epoch: 001300,  -2 -2 -2 -2 -2\n",
      "id: 005 Epoch: 001400,  -2 -2 -2 -2 -2\n",
      "id: 005 Epoch: 001500,  -2 -2 -2 -2 -2\n",
      "id: 005 Epoch: 001600,  -2 -2 -2 -2 -2\n",
      "id: 005 Epoch: 001700,  -2 -2 -2 -2 -2\n",
      "id: 005 Epoch: 001800,  -2 -2 -2 -2 -2\n",
      "id: 005 Epoch: 001900,  -2 -2 -2 -2 -2\n",
      ">>> Training ends: <function datetime_now at 0x7f0f07806050>\n",
      "Total training time: 2.7 min\n",
      "Stopped at 1999 epochs,\n",
      "bot with highest score & params:\n",
      "id: 005 Epoch: 01999, -2 [('01', 6), ('02', 0), ('03', 5), ('04', 1), ('05', 9), ('06', 6), ('07', 2), ('08', 2), ('09', 9), ('10', 2), ('11', 4), ('12', 6), ('13', 2), ('14', 1), ('15', 9), ('16', 8), ('17', 4), ('18', 4), ('19', 2), ('20', 8), ('21', 3), ('22', 7), ('23', 9), ('24', 7), ('25', 2), ('26', 2), ('27', 9), ('28', 8), ('29', 2), ('30', 8), ('31', 4)]\n",
      "\n",
      "Sum of all bags capacities: 241\n",
      "Sum of all items for bags: 241\n",
      "Bag:01 (1-[1]**2=0  Bag:02 (12-[1, 11]**2=0  Bag:03 (72-[3, 3, 27, 7, 4, 10, 10, 8]**2=0  Bag:04 (4-[5]**2=-1  Bag:05 (55-[31, 7, 8, 8]**2=-1  Bag:06 (1-[1]**2=0  Bag:07 (11-[1, 3, 7]**2=0  Bag:08 (15-[5, 10]**2=0  Bag:09 (30-[7, 7, 8, 8]**2=0  Bag:10 (40-[4, 1, 22, 5, 8]**2=0   Total: -2\n"
     ]
    }
   ],
   "source": [
    "trains_capacity = [1, 12, 72, 4, 55, 1, 11, 15, 30, 40]\n",
    "loads_for_trains = [1, 1, 1, 1, 4, 3, 3, 3, 1, 27, 31, 7, 7, 11, 22, 7, 7, 8,\n",
    "                    4, 7, 5, 5, 5, 10, 10, 10, 8, 8, 8, 8, 8]\n",
    "couching = gb.Couch(trains_capacity,\n",
    "                    loads_for_trains,\n",
    "                    score_condition=0,\n",
    "                    epoch_condition=2000,\n",
    "                    steps_to_evaluate=100,\n",
    "                    root_gene=\"NORMAL\",\n",
    "                    typeof=\"fill_bag\",\n",
    "                    verbose=0)\n",
    "couching.train()"
   ]
  },
  {
   "cell_type": "code",
   "execution_count": 8,
   "id": "empirical-hardwood",
   "metadata": {},
   "outputs": [
    {
     "ename": "NameError",
     "evalue": "name 'ga' is not defined",
     "output_type": "error",
     "traceback": [
      "\u001b[0;31m---------------------------------------------------------------------------\u001b[0m",
      "\u001b[0;31mNameError\u001b[0m                                 Traceback (most recent call last)",
      "\u001b[0;32m/tmp/ipykernel_1433810/2636911145.py\u001b[0m in \u001b[0;36m<module>\u001b[0;34m\u001b[0m\n\u001b[1;32m     17\u001b[0m                  }\n\u001b[1;32m     18\u001b[0m \u001b[0;34m\u001b[0m\u001b[0m\n\u001b[0;32m---> 19\u001b[0;31m couching = ga.Couch(time_bags_capacity,\n\u001b[0m\u001b[1;32m     20\u001b[0m                     \u001b[0mto_bags_items\u001b[0m\u001b[0;34m,\u001b[0m\u001b[0;34m\u001b[0m\u001b[0;34m\u001b[0m\u001b[0m\n\u001b[1;32m     21\u001b[0m                     \u001b[0mscore_condition\u001b[0m\u001b[0;34m=\u001b[0m\u001b[0;36m0\u001b[0m\u001b[0;34m,\u001b[0m\u001b[0;34m\u001b[0m\u001b[0;34m\u001b[0m\u001b[0m\n",
      "\u001b[0;31mNameError\u001b[0m: name 'ga' is not defined"
     ]
    }
   ],
   "source": [
    "time_bags_capacity = {\"Monday\": (\"07:00\", \"21:00\", 14),\n",
    "                      \"Tuesday\": (\"07:00\", \"21:00\", 14),\n",
    "                      \"Wednesday\": (\"07:00\", \"21:00\", 14),\n",
    "                      }\n",
    "to_bags_items = {\"Person_1\": {\"Monday\": (\"07:00\", \"12:00\", 5),\n",
    "                              \"Tuesday\": (\"07:00\", \"12:00\", 5),\n",
    "                              \"Wednesday\": (\"07:00\", \"12:00\", 5),\n",
    "                              },\n",
    "                 \"Person_2\": {\"Monday\": (\"11:00\", \"21:00\", 4),\n",
    "                              \"Tuesday\": (\"11:00\", \"21:00\", 4),\n",
    "                              \"Wednesday\": (\"11:00\", \"21:00\", 4),\n",
    "                              },\n",
    "                 \"Person_3\": {\"Monday\": (\"11:00\", \"21:00\", 5),\n",
    "                              \"Tuesday\": (\"11:00\", \"21:00\", 5),\n",
    "                              \"Wednesday\": (\"11:00\", \"21:00\", 5),\n",
    "                              },\n",
    "                 }\n",
    "\n",
    "couching = ga.Couch(time_bags_capacity,\n",
    "                    to_bags_items,\n",
    "                    score_condition=0,\n",
    "                    epoch_condition=400,\n",
    "                    steps_to_evaluate=40,\n",
    "                    root_gene=\"NORMAL\",\n",
    "                    typeof=\"time_bag\",\n",
    "                    verbose=0)\n",
    "couching.train()"
   ]
  },
  {
   "cell_type": "code",
   "execution_count": null,
   "id": "handled-actor",
   "metadata": {},
   "outputs": [],
   "source": [
    "time_bags_capacity = {\"Monday\": (\"07:00\", \"21:00\", 14),\n",
    "                      \"Tuesday\": (\"07:00\", \"21:00\", 14),\n",
    "                      \"Wednesday\": (\"07:00\", \"21:00\", 14),\n",
    "                      \"Thursday\": (\"07:00\", \"23:00\", 16),\n",
    "#                       \"Friday\": (\"07:00\", \"23:00\", 16),\n",
    "#                       \"Saturday\": (\"07:00\", \"23:00\", 16),\n",
    "#                       \"Sunday\": (\"08:00\", \"23:00\", 15)\n",
    "                      }\n",
    "to_bags_items = {\"Person_1\": {\"Monday\": (\"07:00\", \"12:00\", 5),\n",
    "                              \"Tuesday\": (\"07:00\", \"12:00\", 5),\n",
    "                              \"Wednesday\": (\"07:00\", \"12:00\", 5),\n",
    "                              },\n",
    "                 \"Person_2\": {\"Monday\": (\"11:00\", \"21:00\", 4),\n",
    "                              \"Tuesday\": (\"11:00\", \"21:00\", 4),\n",
    "                              \"Wednesday\": (\"11:00\", \"21:00\", 4),\n",
    "                              },\n",
    "                 \"Person_3\": {\"Monday\": (\"11:00\", \"21:00\", 5),\n",
    "                              \"Tuesday\": (\"11:00\", \"21:00\", 5),\n",
    "                              \"Wednesday\": (\"11:00\", \"21:00\", 5),\n",
    "                              },\n",
    "                 \"Person_4\": {\"Thursday\": (\"07:00\", \"12:00\", 5),\n",
    "#                               \"Friday\": (\"12:00\", \"19:00\", 5),\n",
    "#                               \"Saturday\": (\"14:00\", \"15:00\", 1)\n",
    "                              },\n",
    "                 \"Person_5\": {\"Monday\": (\"15:00\", \"22:00\", 4),\n",
    "                              \"Tuesday\": (\"15:00\", \"23:00\", 4),\n",
    "                              \"Wednesday\": (\"07:00\", \"23:00\", 4),\n",
    "                              \"Thursday\": (\"14:00\", \"22:00\", 5),\n",
    "#                               \"Friday\": (\"12:00\", \"19:00\", 3),\n",
    "#                               \"Saturday\": (\"09:00\", \"12:00\", 1),\n",
    "#                               \"Sunday\": (\"14:00\", \"23:00\", 3),\n",
    "                              }\n",
    "                 }\n",
    "\n",
    "couching = ga.Couch(time_bags_capacity,\n",
    "                    to_bags_items,\n",
    "                    score_condition=0,\n",
    "                    epoch_condition=300,\n",
    "                    steps_to_evaluate=40,\n",
    "                    root_gene=\"NORMAL\",\n",
    "                    typeof=\"time_bag\",\n",
    "                    verbose=1)\n",
    "couching.train()"
   ]
  }
 ],
 "metadata": {
  "kernelspec": {
   "display_name": "Python [conda env:sunday-dev] *",
   "language": "python",
   "name": "conda-env-sunday-dev-py"
  },
  "language_info": {
   "codemirror_mode": {
    "name": "ipython",
    "version": 3
   },
   "file_extension": ".py",
   "mimetype": "text/x-python",
   "name": "python",
   "nbconvert_exporter": "python",
   "pygments_lexer": "ipython3",
   "version": "3.7.12"
  },
  "varInspector": {
   "cols": {
    "lenName": 16,
    "lenType": 16,
    "lenVar": 40
   },
   "kernels_config": {
    "python": {
     "delete_cmd_postfix": "",
     "delete_cmd_prefix": "del ",
     "library": "var_list.py",
     "varRefreshCmd": "print(var_dic_list())"
    },
    "r": {
     "delete_cmd_postfix": ") ",
     "delete_cmd_prefix": "rm(",
     "library": "var_list.r",
     "varRefreshCmd": "cat(var_dic_list()) "
    }
   },
   "types_to_exclude": [
    "module",
    "function",
    "builtin_function_or_method",
    "instance",
    "_Feature"
   ],
   "window_display": false
  }
 },
 "nbformat": 4,
 "nbformat_minor": 5
}
